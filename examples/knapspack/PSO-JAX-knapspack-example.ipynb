{
  "nbformat": 4,
  "nbformat_minor": 0,
  "metadata": {
    "colab": {
      "name": "PSO-Jax Knapspack Example Code",
      "provenance": [],
      "collapsed_sections": [
        "AHNWmTzl66EO",
        "BWUhQ4-h7YTx",
        "IybgcZc6QEZj",
        "zB0wQpmxu-No",
        "ja6_ZpTAuvwd"
      ]
    },
    "kernelspec": {
      "name": "python3",
      "display_name": "Python 3"
    },
    "accelerator": "TPU"
  },
  "cells": [
    {
      "cell_type": "markdown",
      "metadata": {
        "id": "AHNWmTzl66EO"
      },
      "source": [
        "# Run to get hardware specs"
      ]
    },
    {
      "cell_type": "markdown",
      "metadata": {
        "id": "vhb5uEkh7D4K"
      },
      "source": [
        "CPU"
      ]
    },
    {
      "cell_type": "code",
      "metadata": {
        "id": "Ag5QCwsX6172",
        "outputId": "f2c0be00-f83c-4734-bb90-b4a96b5ff8ee",
        "colab": {
          "base_uri": "https://localhost:8080/"
        }
      },
      "source": [
        "!cat /proc/cpuinfo"
      ],
      "execution_count": null,
      "outputs": [
        {
          "output_type": "stream",
          "text": [
            "processor\t: 0\n",
            "vendor_id\t: GenuineIntel\n",
            "cpu family\t: 6\n",
            "model\t\t: 63\n",
            "model name\t: Intel(R) Xeon(R) CPU @ 2.30GHz\n",
            "stepping\t: 0\n",
            "microcode\t: 0x1\n",
            "cpu MHz\t\t: 2300.000\n",
            "cache size\t: 46080 KB\n",
            "physical id\t: 0\n",
            "siblings\t: 2\n",
            "core id\t\t: 0\n",
            "cpu cores\t: 1\n",
            "apicid\t\t: 0\n",
            "initial apicid\t: 0\n",
            "fpu\t\t: yes\n",
            "fpu_exception\t: yes\n",
            "cpuid level\t: 13\n",
            "wp\t\t: yes\n",
            "flags\t\t: fpu vme de pse tsc msr pae mce cx8 apic sep mtrr pge mca cmov pat pse36 clflush mmx fxsr sse sse2 ss ht syscall nx pdpe1gb rdtscp lm constant_tsc rep_good nopl xtopology nonstop_tsc cpuid tsc_known_freq pni pclmulqdq ssse3 fma cx16 pcid sse4_1 sse4_2 x2apic movbe popcnt aes xsave avx f16c rdrand hypervisor lahf_lm abm invpcid_single ssbd ibrs ibpb stibp fsgsbase tsc_adjust bmi1 avx2 smep bmi2 erms invpcid xsaveopt arat md_clear arch_capabilities\n",
            "bugs\t\t: cpu_meltdown spectre_v1 spectre_v2 spec_store_bypass l1tf mds swapgs\n",
            "bogomips\t: 4600.00\n",
            "clflush size\t: 64\n",
            "cache_alignment\t: 64\n",
            "address sizes\t: 46 bits physical, 48 bits virtual\n",
            "power management:\n",
            "\n",
            "processor\t: 1\n",
            "vendor_id\t: GenuineIntel\n",
            "cpu family\t: 6\n",
            "model\t\t: 63\n",
            "model name\t: Intel(R) Xeon(R) CPU @ 2.30GHz\n",
            "stepping\t: 0\n",
            "microcode\t: 0x1\n",
            "cpu MHz\t\t: 2300.000\n",
            "cache size\t: 46080 KB\n",
            "physical id\t: 0\n",
            "siblings\t: 2\n",
            "core id\t\t: 0\n",
            "cpu cores\t: 1\n",
            "apicid\t\t: 1\n",
            "initial apicid\t: 1\n",
            "fpu\t\t: yes\n",
            "fpu_exception\t: yes\n",
            "cpuid level\t: 13\n",
            "wp\t\t: yes\n",
            "flags\t\t: fpu vme de pse tsc msr pae mce cx8 apic sep mtrr pge mca cmov pat pse36 clflush mmx fxsr sse sse2 ss ht syscall nx pdpe1gb rdtscp lm constant_tsc rep_good nopl xtopology nonstop_tsc cpuid tsc_known_freq pni pclmulqdq ssse3 fma cx16 pcid sse4_1 sse4_2 x2apic movbe popcnt aes xsave avx f16c rdrand hypervisor lahf_lm abm invpcid_single ssbd ibrs ibpb stibp fsgsbase tsc_adjust bmi1 avx2 smep bmi2 erms invpcid xsaveopt arat md_clear arch_capabilities\n",
            "bugs\t\t: cpu_meltdown spectre_v1 spectre_v2 spec_store_bypass l1tf mds swapgs\n",
            "bogomips\t: 4600.00\n",
            "clflush size\t: 64\n",
            "cache_alignment\t: 64\n",
            "address sizes\t: 46 bits physical, 48 bits virtual\n",
            "power management:\n",
            "\n"
          ],
          "name": "stdout"
        }
      ]
    },
    {
      "cell_type": "markdown",
      "metadata": {
        "id": "iK0_ir9p7JZu"
      },
      "source": [
        "GPU/TPU"
      ]
    },
    {
      "cell_type": "code",
      "metadata": {
        "id": "BR6Wt-zY6_VI",
        "outputId": "978a5504-e000-43d9-9c02-fc7fbfbf9a84",
        "colab": {
          "base_uri": "https://localhost:8080/"
        }
      },
      "source": [
        "!nvidia-smi"
      ],
      "execution_count": null,
      "outputs": [
        {
          "output_type": "stream",
          "text": [
            "NVIDIA-SMI has failed because it couldn't communicate with the NVIDIA driver. Make sure that the latest NVIDIA driver is installed and running.\n",
            "\n"
          ],
          "name": "stdout"
        }
      ]
    },
    {
      "cell_type": "markdown",
      "metadata": {
        "id": "hOs5p1dN7Pqu"
      },
      "source": [
        "Memoria RAM"
      ]
    },
    {
      "cell_type": "code",
      "metadata": {
        "id": "gh6e1eQe6_4h",
        "outputId": "0ccee1f2-cd45-453c-dc71-0374ca957cfb",
        "colab": {
          "base_uri": "https://localhost:8080/"
        }
      },
      "source": [
        "!cat /proc/meminfo"
      ],
      "execution_count": null,
      "outputs": [
        {
          "output_type": "stream",
          "text": [
            "MemTotal:       13333596 kB\n",
            "MemFree:        10514456 kB\n",
            "MemAvailable:   12495512 kB\n",
            "Buffers:           76948 kB\n",
            "Cached:          2032980 kB\n",
            "SwapCached:            0 kB\n",
            "Active:           710640 kB\n",
            "Inactive:        1851336 kB\n",
            "Active(anon):     403788 kB\n",
            "Inactive(anon):      336 kB\n",
            "Active(file):     306852 kB\n",
            "Inactive(file):  1851000 kB\n",
            "Unevictable:           0 kB\n",
            "Mlocked:               0 kB\n",
            "SwapTotal:             0 kB\n",
            "SwapFree:              0 kB\n",
            "Dirty:               488 kB\n",
            "Writeback:             0 kB\n",
            "AnonPages:        451984 kB\n",
            "Mapped:           273288 kB\n",
            "Shmem:               936 kB\n",
            "Slab:             165980 kB\n",
            "SReclaimable:     128064 kB\n",
            "SUnreclaim:        37916 kB\n",
            "KernelStack:        4032 kB\n",
            "PageTables:         6020 kB\n",
            "NFS_Unstable:          0 kB\n",
            "Bounce:                0 kB\n",
            "WritebackTmp:          0 kB\n",
            "CommitLimit:     6666796 kB\n",
            "Committed_AS:    2789228 kB\n",
            "VmallocTotal:   34359738367 kB\n",
            "VmallocUsed:           0 kB\n",
            "VmallocChunk:          0 kB\n",
            "Percpu:              928 kB\n",
            "AnonHugePages:         0 kB\n",
            "ShmemHugePages:        0 kB\n",
            "ShmemPmdMapped:        0 kB\n",
            "HugePages_Total:       0\n",
            "HugePages_Free:        0\n",
            "HugePages_Rsvd:        0\n",
            "HugePages_Surp:        0\n",
            "Hugepagesize:       2048 kB\n",
            "Hugetlb:               0 kB\n",
            "DirectMap4k:       87272 kB\n",
            "DirectMap2M:     6203392 kB\n",
            "DirectMap1G:     9437184 kB\n"
          ],
          "name": "stdout"
        }
      ]
    },
    {
      "cell_type": "markdown",
      "metadata": {
        "id": "GW-_pkkz7Ysf"
      },
      "source": [
        "Manejo de datos en disco"
      ]
    },
    {
      "cell_type": "code",
      "metadata": {
        "id": "X-c-ql3X7ZYz",
        "outputId": "0f1d71a4-b4b5-4ff7-b617-b02340c614cf",
        "colab": {
          "base_uri": "https://localhost:8080/"
        }
      },
      "source": [
        "!df -h"
      ],
      "execution_count": null,
      "outputs": [
        {
          "output_type": "stream",
          "text": [
            "Filesystem      Size  Used Avail Use% Mounted on\n",
            "overlay         108G   31G   73G  30% /\n",
            "tmpfs            64M     0   64M   0% /dev\n",
            "tmpfs           6.4G     0  6.4G   0% /sys/fs/cgroup\n",
            "shm             5.9G  4.0K  5.9G   1% /dev/shm\n",
            "tmpfs           6.4G   12K  6.4G   1% /var/colab\n",
            "/dev/sda1       114G   32G   83G  28% /etc/hosts\n",
            "tmpfs           6.4G     0  6.4G   0% /proc/acpi\n",
            "tmpfs           6.4G     0  6.4G   0% /proc/scsi\n",
            "tmpfs           6.4G     0  6.4G   0% /sys/firmware\n"
          ],
          "name": "stdout"
        }
      ]
    },
    {
      "cell_type": "markdown",
      "metadata": {
        "id": "BWUhQ4-h7YTx"
      },
      "source": [
        "# Run this before other code while using TPU\n"
      ]
    },
    {
      "cell_type": "code",
      "metadata": {
        "id": "8xFfM-m87XaB"
      },
      "source": [
        "# Colab runtime set to TPU\n",
        "import os\n",
        "import requests\n",
        "from jax.config import config\n",
        "\n",
        "if 'TPU_DRIVER_MODE' not in globals():\n",
        "  try:\n",
        "    url = 'http://' + os.environ['COLAB_TPU_ADDR'].split(':')[0] + ':8475/requestversion/tpu_driver_nightly'\n",
        "\n",
        "    resp = requests.post(url)\n",
        "    TPU_DRIVER_MODE = 1\n",
        "\n",
        "    # config TPU driver as backend for JAX\n",
        "    config.FLAGS.jax_xla_backend = \"tpu_driver\"\n",
        "    config.FLAGS.jax_backend_target = \"grpc://\" + os.environ['COLAB_TPU_ADDR']\n",
        "    print(config.FLAGS.jax_backend_target)\n",
        "  except KeyError:\n",
        "    print(\"No TPU found.\\n\\n\")\n"
      ],
      "execution_count": null,
      "outputs": []
    },
    {
      "cell_type": "markdown",
      "metadata": {
        "id": "IybgcZc6QEZj"
      },
      "source": [
        "# Install PySwarms"
      ]
    },
    {
      "cell_type": "code",
      "metadata": {
        "id": "c-xlzn3LvO6Z",
        "outputId": "44bc82f4-647b-4cf8-bb2d-0679701838cc",
        "colab": {
          "base_uri": "https://localhost:8080/"
        }
      },
      "source": [
        "!pip install Pyswarms"
      ],
      "execution_count": null,
      "outputs": [
        {
          "output_type": "stream",
          "text": [
            "Requirement already satisfied: Pyswarms in /usr/local/lib/python3.6/dist-packages (1.1.0)\n",
            "Requirement already satisfied: future in /usr/local/lib/python3.6/dist-packages (from Pyswarms) (0.16.0)\n",
            "Requirement already satisfied: attrs in /usr/local/lib/python3.6/dist-packages (from Pyswarms) (20.2.0)\n",
            "Requirement already satisfied: numpy in /usr/local/lib/python3.6/dist-packages (from Pyswarms) (1.18.5)\n",
            "Requirement already satisfied: scipy in /usr/local/lib/python3.6/dist-packages (from Pyswarms) (1.4.1)\n",
            "Requirement already satisfied: matplotlib>=1.3.1 in /usr/local/lib/python3.6/dist-packages (from Pyswarms) (3.2.2)\n",
            "Requirement already satisfied: tqdm in /usr/local/lib/python3.6/dist-packages (from Pyswarms) (4.41.1)\n",
            "Requirement already satisfied: python-dateutil>=2.1 in /usr/local/lib/python3.6/dist-packages (from matplotlib>=1.3.1->Pyswarms) (2.8.1)\n",
            "Requirement already satisfied: kiwisolver>=1.0.1 in /usr/local/lib/python3.6/dist-packages (from matplotlib>=1.3.1->Pyswarms) (1.2.0)\n",
            "Requirement already satisfied: pyparsing!=2.0.4,!=2.1.2,!=2.1.6,>=2.0.1 in /usr/local/lib/python3.6/dist-packages (from matplotlib>=1.3.1->Pyswarms) (2.4.7)\n",
            "Requirement already satisfied: cycler>=0.10 in /usr/local/lib/python3.6/dist-packages (from matplotlib>=1.3.1->Pyswarms) (0.10.0)\n",
            "Requirement already satisfied: six>=1.5 in /usr/local/lib/python3.6/dist-packages (from python-dateutil>=2.1->matplotlib>=1.3.1->Pyswarms) (1.15.0)\n"
          ],
          "name": "stdout"
        }
      ]
    },
    {
      "cell_type": "markdown",
      "metadata": {
        "id": "zB0wQpmxu-No"
      },
      "source": [
        "# PSO/Knapsack with NUMPY\n"
      ]
    },
    {
      "cell_type": "code",
      "metadata": {
        "id": "LA7v8sdyu9fd"
      },
      "source": [
        "import numpy as np\n",
        "\n",
        "def knapsack_res(X):\n",
        "    weight = np.sum(pv_file, axis=0)\n",
        "\n",
        "    PR=np.matmul(pv_file, X.transpose()).transpose()\n",
        "\n",
        "    G = np.matmul(rs_file, X.transpose()).transpose()\n",
        "    # Transpose to reach (k,j),(j,i)->(k,i)\n",
        "\n",
        "    VIO = np.add(G, -1 * bs_file)\n",
        "\n",
        "    VIO = np.where(VIO < 0.0, 0.0, VIO)\n",
        "\n",
        "    PNLTY = np.sum(VIO, axis = 1)\n",
        "\n",
        "    FI = np.add(PR, -1 * (weight * PNLTY))\n",
        "\n",
        "    return FI, VIO\n",
        "\n",
        "def knapsack(X):\n",
        "    FI, VIO = knapsack_res(X)\n",
        "\n",
        "    return -FI\n",
        "\n",
        "def activation(x, function=1):\n",
        "    if (function == 1):  # Sigmoid\n",
        "        return 1 / (1 + np.exp(-x))\n",
        "    elif (function == 2):  # Softmax\n",
        "        expo = np.exp(x)\n",
        "        expo_sum = np.sum(np.exp(x))\n",
        "        return expo / expo_sum\n",
        "    elif (function == 3):  # ReLu\n",
        "        return np.maximum(0, x)\n",
        "\n",
        "\n",
        "def toDiscrete(x):\n",
        "    return np.where(x < 0.5, 0, 1)\n",
        "\n",
        "def convert_to_discrete(x):\n",
        "    x_sigmoid = 1 / (1 + np.exp(-x))\n",
        "    discrete_position = np.where(x_sigmoid < 0.5, 0, 1)\n",
        "    return discrete_position\n",
        "\n",
        "def calculate_velocity(w, particles_velocity, c1, c2, r1, r2, best_particle_position,\n",
        "                       particles_position, best_global_position):\n",
        "    inertia = w * particles_velocity\n",
        "    best_particle_pos_component = r1 * (best_particle_position - particles_position)\n",
        "    best_global_pos_component = r2 * (best_global_position - particles_position)\n",
        "\n",
        "    new_velocity = inertia + c1 * best_particle_pos_component + c2 * best_global_pos_component\n",
        "    return new_velocity\n",
        "\n",
        "def calculate_best_position(objective_values, best_particle_cost, particles_position, best_particle_position, particles,\n",
        "                            dimensions):\n",
        "    bests = np.less(objective_values, best_particle_cost)\n",
        "    reshape = np.reshape(bests, np.array([particles, 1]))\n",
        "    bests_reshape = np.broadcast_to(reshape, np.array([particles, dimensions]))\n",
        "    pos = np.where(bests_reshape, particles_position, best_particle_position)\n",
        "    return pos\n",
        "\n",
        "def runDiscretePSO_np(user_options, algorithm_options):\n",
        "    particles = algorithm_options['particles']\n",
        "    dimensions = algorithm_options['dimensions']\n",
        "    objective = algorithm_options['objective']\n",
        "    # For each particle, initialize position and velocity\n",
        "    particles_position = np.random.uniform(-1, 1, (particles, dimensions))\n",
        "    particles_velocity = np.random.uniform(-1, 1, (particles, dimensions))\n",
        "\n",
        "    particles_position = toDiscrete(activation(particles_velocity))\n",
        "\n",
        "    best_global = None  # Best swarm cost\n",
        "    best_global_position = np.empty((particles, dimensions))  # Best swarm position\n",
        "    best_particle_position = particles_position\n",
        "    best_particle_cost = objective(best_particle_position)\n",
        "\n",
        "    for k in range(0, algorithm_options['iterations']):\n",
        "        objective_values = objective(best_particle_position)\n",
        "        best_index = np.argmin(objective_values)\n",
        "        best_value = objective_values[best_index]\n",
        "\n",
        "        # particles x dimensions\n",
        "        best_particle_position = calculate_best_position(objective_values, best_particle_cost, particles_position,\n",
        "                                                         best_particle_position, particles, dimensions)\n",
        "\n",
        "        if best_global is None or best_value < best_global:\n",
        "            # Update best swarm cost and position\n",
        "            best_global = best_value\n",
        "            best_global_position = particles_position[best_index]\n",
        "\n",
        "        r1 = np.random.uniform(0, 1, (particles, dimensions))\n",
        "        r2 = np.random.uniform(0, 1, (particles, dimensions))\n",
        "\n",
        "        particles_velocity = calculate_velocity(user_options['w'], particles_velocity, user_options['c1'],\n",
        "                                                user_options['c2'], r1, r2, best_particle_position,\n",
        "                                                particles_position, best_global_position)\n",
        "\n",
        "        particles_position = toDiscrete(activation(particles_position + particles_velocity))\n",
        "\n",
        "        best_particle_position = particles_position\n",
        "\n",
        "    return best_global, best_global_position"
      ],
      "execution_count": null,
      "outputs": []
    },
    {
      "cell_type": "markdown",
      "metadata": {
        "id": "ja6_ZpTAuvwd"
      },
      "source": [
        "# PSO/Knapsack with JAX.NUMPY\n"
      ]
    },
    {
      "cell_type": "code",
      "metadata": {
        "id": "FWYg78l2uiIZ"
      },
      "source": [
        "from jax import random, jit\n",
        "import jax.numpy as npj\n",
        "import numpy as np\n",
        "import random as randompy\n",
        "from datetime import datetime\n",
        "\n",
        "@jit\n",
        "def knapsack_res(X):\n",
        "    weight = npj.sum(pv_file, axis=0)\n",
        "\n",
        "    PR=npj.matmul(pv_file, X.transpose()).transpose()\n",
        "\n",
        "    G = npj.matmul(rs_file, X.transpose()).transpose()\n",
        "    # Transpose to reach (k,j),(j,i)->(k,i)\n",
        "\n",
        "    VIO = npj.add(G, -1 * bs_file)\n",
        "\n",
        "    VIO = npj.where(VIO < 0.0, 0.0, VIO)\n",
        "\n",
        "    PNLTY = npj.sum(VIO, axis = 1)\n",
        "\n",
        "    FI = npj.add(PR, -1 * (weight * PNLTY))\n",
        "\n",
        "    return FI, VIO\n",
        "\n",
        "@jit\n",
        "def knapsack(X):\n",
        "    FI, VIO = knapsack_res(X)\n",
        "\n",
        "    return -FI\n",
        "\n",
        "@jit\n",
        "def activation(x, function=1):\n",
        "    if (function == 1):  # Sigmoid\n",
        "        return 1 / (1 + npj.exp(-x))\n",
        "    elif (function == 2):  # Softmax\n",
        "        expo = npj.exp(x)\n",
        "        expo_sum = npj.sum(npj.exp(x))\n",
        "        return expo / expo_sum\n",
        "    elif (function == 3):  # ReLu\n",
        "        return npj.maximum(0, x)\n",
        "\n",
        "@jit\n",
        "def toDiscrete(x):\n",
        "    return npj.where(x < 0.5, 0, 1)\n",
        "\n",
        "@jit\n",
        "def convert_to_discrete(x):\n",
        "    x_sigmoid = 1 / (1 + npj.exp(-x))\n",
        "    discrete_position = npj.where(x_sigmoid < 0.5, 0, 1)\n",
        "    return discrete_position\n",
        "\n",
        "@jit\n",
        "def calculate_velocity(w, particles_velocity, c1, c2, r1, r2, best_particle_position,\n",
        "                       particles_position, best_global_position):\n",
        "    inertia = w * particles_velocity\n",
        "    best_particle_pos_component = r1 * (best_particle_position - particles_position)\n",
        "    best_global_pos_component = r2 * (best_global_position - particles_position)\n",
        "\n",
        "    new_velocity = inertia + c1 * best_particle_pos_component + c2 * best_global_pos_component\n",
        "    return new_velocity\n",
        "\n",
        "def calculate_best_position(objective_values, best_particle_cost, particles_position, best_particle_position, particles,\n",
        "                            dimensions):\n",
        "    bests = npj.less(objective_values, best_particle_cost)\n",
        "    reshape = npj.reshape(bests, npj.array([particles, 1]))\n",
        "    bests_reshape = npj.broadcast_to(reshape, npj.array([particles, dimensions]))\n",
        "    pos = npj.where(bests_reshape, particles_position, best_particle_position)\n",
        "    return pos\n",
        "\n",
        "def runDiscretePSO_jax(user_options, algorithm_options):\n",
        "    particles = algorithm_options['particles']\n",
        "    dimensions = algorithm_options['dimensions']\n",
        "    objective = algorithm_options['objective']\n",
        "    # For each particle, initialize position and velocity\n",
        "    seed = random.PRNGKey(datetime.now().microsecond)\n",
        "    particles_position = random.uniform(seed, (particles, dimensions), None, -1, 1)\n",
        "    seed = random.PRNGKey(datetime.now().microsecond)\n",
        "    particles_velocity = random.uniform(seed, (particles, dimensions), None, -1, 1)\n",
        "    # Use of system microseconds as random seed to get different numbers each time\n",
        "\n",
        "    particles_position = toDiscrete(activation(particles_velocity))\n",
        "\n",
        "    best_global = None  # Best swarm cost\n",
        "    best_global_position = npj.empty((particles, dimensions))  # Best swarm position\n",
        "    best_particle_position = particles_position\n",
        "    best_particle_cost = objective(best_particle_position)  # obj_fuction(best_particle_position)\n",
        "\n",
        "    for k in range(0, algorithm_options['iterations']):\n",
        "        # Don't replace with 'iterations' variable because it is called only once\n",
        "        objective_values = objective(best_particle_position)  # obj_fuction(particles_position)\n",
        "        best_index = npj.argmin(objective_values)\n",
        "        best_value = objective_values[best_index]\n",
        "\n",
        "        # particles x dimensions\n",
        "        best_particle_position = calculate_best_position(objective_values, best_particle_cost, particles_position,\n",
        "                                                         best_particle_position, particles, dimensions)\n",
        "\n",
        "        if best_global is None or best_value < best_global:\n",
        "            # Update best swarm cost and position\n",
        "            best_global = best_value\n",
        "            best_global_position = particles_position[best_index]\n",
        "\n",
        "        seed = random.PRNGKey(datetime.now().microsecond)\n",
        "        r1 = random.uniform(seed, (particles, dimensions), None, 0, 1)\n",
        "        seed = random.PRNGKey(datetime.now().microsecond)\n",
        "        r2 = random.uniform(seed, (particles, dimensions), None, 0, 1)\n",
        "\n",
        "        particles_velocity = calculate_velocity(user_options['w'], particles_velocity, user_options['c1'],\n",
        "                                                user_options['c2'], r1, r2, best_particle_position,\n",
        "                                                particles_position, best_global_position)\n",
        "\n",
        "        particles_position = toDiscrete(activation(particles_position + particles_velocity))\n",
        "\n",
        "        best_particle_position = particles_position\n",
        "\n",
        "    return best_global, best_global_position"
      ],
      "execution_count": null,
      "outputs": []
    },
    {
      "cell_type": "markdown",
      "metadata": {
        "id": "zJZd3r0avHPI"
      },
      "source": [
        "# Compare solutions"
      ]
    },
    {
      "cell_type": "code",
      "metadata": {
        "id": "99dcSqSCvGf-",
        "outputId": "9a6686f8-9d2a-4c27-a56b-9b17602e520f",
        "colab": {
          "base_uri": "https://localhost:8080/",
          "height": 734
        }
      },
      "source": [
        "import time\n",
        "import pyswarms as ps\n",
        "\n",
        "# This function generates the instance needed to prove the PSO\n",
        "def instance_generation(n_items, n_constraints, alpha=0.75):\n",
        "    rs = np.random.randint(1000, size=(n_constraints, n_items))\n",
        "    bs = alpha * np.sum(rs, axis=1)\n",
        "    q = np.random.random_sample((n_items))\n",
        "    pv = np.sum(rs, axis=0) / n_constraints\n",
        "    pv = np.add(pv, 500 * q)\n",
        "\n",
        "    return pv, rs, bs\n",
        "\n",
        "def verify_solution(solution):\n",
        "    for i in range(n_constraints):\n",
        "        sum = 0\n",
        "        for j in range(n_items):\n",
        "            if solution[j]:\n",
        "                sum += rs_file[i, j]\n",
        "        if sum > bs_file[i]:\n",
        "            return False\n",
        "    return True\n",
        "\n",
        "def print_solution(solX):\n",
        "    solPru = np.random.randint(2, size=(1, n_items))\n",
        "    for k in range(0, n_items):\n",
        "        solPru[0, k] = solX[k]\n",
        "\n",
        "    print(solX)\n",
        "    print(solPru)\n",
        "\n",
        "    [f, vio] = knapsack_res(solPru)\n",
        "    print(vio)\n",
        "\n",
        "def ps_bhi_np_solution(n_particles, iterations, dim, ftol, options):\n",
        "    global solX_NumPy\n",
        "    user_options = {'c1': options['c1'], 'c2': options['c2'], 'w': options['w']}\n",
        "    algorithm_options = {'particles': n_particles, 'dimensions': dim,\n",
        "                         'iterations': iterations, 'objective': knapsack, 'ftol': ftol}\n",
        "\n",
        "    # Perform optimization\n",
        "    start = time.time()\n",
        "    solFO, solX_NumPy = runDiscretePSO_np(user_options, algorithm_options)\n",
        "    wall_time = time.time() - start\n",
        "\n",
        "    return solFO, wall_time\n",
        "\n",
        "def pso_bhi_jax_solution(n_particles, iterations, dimensions, ftol, options):\n",
        "    global solX_NumPyJAX\n",
        "    user_options = {'c1': options['c1'], 'c2': options['c2'], 'w': options['w']}\n",
        "    algorithm_options = {'particles': n_particles, 'dimensions': dimensions,\n",
        "                         'iterations': iterations, 'objective': knapsack, 'ftol': ftol}\n",
        "\n",
        "    # Perform optimization\n",
        "    start = time.time()\n",
        "    solFO, solX_NumPyJAX = runDiscretePSO_jax(user_options, algorithm_options)\n",
        "    wall_time = time.time() - start\n",
        "\n",
        "    return solFO, wall_time\n",
        "\n",
        "def pyswarm_solution(n_particles, iterations, dimensions, ftol, options):\n",
        "    global solX_PySwarms\n",
        "    optimizer = ps.discrete.binary.BinaryPSO(n_particles=n_particles,\n",
        "                                             dimensions=dimensions,\n",
        "                                             options=options,\n",
        "                                             init_pos=None,\n",
        "                                             velocity_clamp=None,\n",
        "                                             vh_strategy='unmodified', ftol=ftol)\n",
        "\n",
        "    # Perform optimization\n",
        "    start = time.time()\n",
        "    [solFO, solX_PySwarms] = optimizer.optimize(knapsack, iters=iterations)\n",
        "    wall_time = time.time() - start\n",
        "  \n",
        "    return solFO, wall_time\n",
        "\n",
        "def compare_solutions():\n",
        "    global pv_file\n",
        "    global bs_file\n",
        "    global rs_file\n",
        "    global n_items\n",
        "    global n_constraints\n",
        "\n",
        "    n_items = 20\n",
        "    n_constraints = 5\n",
        "\n",
        "    [pv_temp, rs_temp, bs_temp] = instance_generation(n_items, n_constraints)\n",
        "    np.savetxt('pv.csv', pv_temp, delimiter=',')\n",
        "    np.savetxt('rs.csv', rs_temp, delimiter=',')\n",
        "    np.savetxt('bs.csv', bs_temp, delimiter=',')\n",
        "    # Save data for future comparison (if needed)\n",
        "\n",
        "    pv_file = np.loadtxt('pv.csv', delimiter=',')\n",
        "    rs_file = np.loadtxt('rs.csv', delimiter=',')\n",
        "    bs_file = np.loadtxt('bs.csv', delimiter=',')\n",
        "    # Raise for its use \n",
        "\n",
        "    dimensions = n_items\n",
        "    iteracions = 100\n",
        "    n_particles = 15\n",
        "\n",
        "    average_iters = 5\n",
        "    ftol = -np.inf\n",
        "\n",
        "    wall_times = [0, 0, 0]\n",
        "    solFOs = [0, 0, 0]\n",
        "    # Item 0: Pyswarms Solution\n",
        "    # Item 1: PSO-BHI Solution using Numpy\n",
        "    # Item 2: PSO-BHI Solution using JAX\n",
        "\n",
        "    for i in range(average_iters):\n",
        "        \n",
        "        [solFO, wall_time] = pyswarm_solution(n_particles, iteracions, dimensions, ftol,\n",
        "                        options={'c1': 0.5, 'c2': 0.3, 'w': 0.9, 'k': n_particles, 'p': 1})\n",
        "        wall_times[0] += wall_time\n",
        "        solFOs[0] += solFO\n",
        "\n",
        "        [solFO, wall_time] = ps_bhi_np_solution(n_particles, iteracions, dimensions, ftol,\n",
        "                        options={'c1': 0.5, 'c2': 0.3, 'w': 0.9, 'k': n_particles, 'p': 1})\n",
        "        wall_times[1] += wall_time\n",
        "        solFOs[1] += solFO\n",
        "\n",
        "        [solFO, wall_time] = pso_bhi_jax_solution(n_particles, iteracions, dimensions, ftol,\n",
        "                        options={'c1': 0.5, 'c2': 0.3, 'w': 0.9, 'k': n_particles, 'p': 1})\n",
        "        wall_times[2] += wall_time\n",
        "        solFOs[2] += solFO\n",
        "\n",
        "    print(\"\\nWall_time Pyswarms: {:0.2f}ms\".format(1000 * wall_times[0] / average_iters))\n",
        "    print(\"Wall_time PSO-BHI: {:0.2f}ms (using NumPy)\".format(1000 * wall_times[1] / average_iters))\n",
        "    print(\"Wall_time PSO-BHI: {:0.2f}ms (using JAX.NumPy)\".format(1000 * wall_times[2] / average_iters))\n",
        "\n",
        "    print(\"\\nPyswarms Solution: {:0.2f}\".format(-solFOs[0] / average_iters))\n",
        "    print(\"PSO-BHI Solution: {:0.2f} (using NumPy)\".format(-solFOs[1] / average_iters))\n",
        "    print(\"PSO-BHI Solution: {:0.2f} (using JAX.NumPy)\".format(-solFOs[2] / average_iters))\n",
        "    # Change sign because we took negative results from PSO\n",
        "\n",
        "    # Prints the LAST run knapsack instance\n",
        "    print(\"\\nPySwarms Solution:\")\n",
        "    print_solution(solX_PySwarms)\n",
        "    if (verify_solution(solX_PySwarms)):\n",
        "      print(\"Valid Solution\")\n",
        "    print(\"\\nPSO-BHI Solution (using NumPy):\")\n",
        "    print_solution(solX_NumPy)\n",
        "    if (verify_solution(solX_NumPy)):\n",
        "      print(\"Valid Solution\")\n",
        "    print(\"\\nPSO-BHI Solution (using JAX.NumPy):\")\n",
        "    print_solution(solX_NumPyJAX)\n",
        "    if (verify_solution(solX_NumPyJAX)):\n",
        "      print(\"Valid Solution\")\n",
        "\n",
        "if __name__ == '__main__':\n",
        "    compare_solutions()"
      ],
      "execution_count": null,
      "outputs": [
        {
          "output_type": "stream",
          "text": [
            "2020-10-23 13:51:43,320 - pyswarms.discrete.binary - INFO - Optimize for 100 iters with {'c1': 0.5, 'c2': 0.3, 'w': 0.9, 'k': 15, 'p': 1}\n",
            "pyswarms.discrete.binary: 100%|██████████|100/100, best_cost=-1.18e+4\n",
            "2020-10-23 13:51:50,159 - pyswarms.discrete.binary - INFO - Optimization finished | best cost: -11842.720703125, best pos: [1 0 1 1 1 0 1 1 1 1 1 1 0 1 1 0 0 1 1 0]\n",
            "2020-10-23 13:52:01,756 - pyswarms.discrete.binary - INFO - Optimize for 100 iters with {'c1': 0.5, 'c2': 0.3, 'w': 0.9, 'k': 15, 'p': 1}\n",
            "pyswarms.discrete.binary: 100%|██████████|100/100, best_cost=-1.13e+4\n",
            "2020-10-23 13:52:08,727 - pyswarms.discrete.binary - INFO - Optimization finished | best cost: -11313.2099609375, best pos: [0 0 1 0 1 1 1 0 1 1 1 1 1 1 1 0 1 1 1 0]\n",
            "2020-10-23 13:52:20,681 - pyswarms.discrete.binary - INFO - Optimize for 100 iters with {'c1': 0.5, 'c2': 0.3, 'w': 0.9, 'k': 15, 'p': 1}\n",
            "pyswarms.discrete.binary: 100%|██████████|100/100, best_cost=-1.13e+4\n",
            "2020-10-23 13:52:27,790 - pyswarms.discrete.binary - INFO - Optimization finished | best cost: -11254.6005859375, best pos: [1 0 0 1 1 1 0 1 1 1 1 0 1 1 1 0 1 1 0 1]\n",
            "2020-10-23 13:52:39,188 - pyswarms.discrete.binary - INFO - Optimize for 100 iters with {'c1': 0.5, 'c2': 0.3, 'w': 0.9, 'k': 15, 'p': 1}\n",
            "pyswarms.discrete.binary: 100%|██████████|100/100, best_cost=-1.18e+4\n",
            "2020-10-23 13:52:45,949 - pyswarms.discrete.binary - INFO - Optimization finished | best cost: -11778.15625, best pos: [0 0 1 0 1 1 1 1 1 1 1 1 0 1 1 1 0 1 1 0]\n",
            "2020-10-23 13:52:57,403 - pyswarms.discrete.binary - INFO - Optimize for 100 iters with {'c1': 0.5, 'c2': 0.3, 'w': 0.9, 'k': 15, 'p': 1}\n",
            "pyswarms.discrete.binary: 100%|██████████|100/100, best_cost=-1.16e+4\n",
            "2020-10-23 13:53:04,217 - pyswarms.discrete.binary - INFO - Optimization finished | best cost: -11582.0302734375, best pos: [1 0 1 1 1 0 1 1 1 1 0 1 0 1 1 1 0 1 1 0]\n"
          ],
          "name": "stderr"
        },
        {
          "output_type": "stream",
          "text": [
            "\n",
            "Wall_time pyswarms: 6901.62ms\n",
            "Wall_time PSO-BHI: 4510.89ms (using NumPy)\n",
            "Wall_time PSO-BHI: 7079.91ms (using JAX.NumPy)\n",
            "\n",
            "Pyswarms Solution: 11554.14\n",
            "PSO-BHI Solution: 11399.64 (using NumPy)\n",
            "PSO-BHI Solution: 11182.81 (using JAX.NumPy)\n",
            "\n",
            "PySwarms Solution:\n",
            "[1 0 1 1 1 0 1 1 1 1 0 1 0 1 1 1 0 1 1 0]\n",
            "[[1 0 1 1 1 0 1 1 1 1 0 1 0 1 1 1 0 1 1 0]]\n",
            "[[0. 0. 0. 0. 0.]]\n",
            "Valid Solution\n",
            "\n",
            "PSO-BHI Solution (using NumPy):\n",
            "[1 1 1 1 1 0 0 1 1 1 1 1 1 0 1 0 1 0 1 1]\n",
            "[[1 1 1 1 1 0 0 1 1 1 1 1 1 0 1 0 1 0 1 1]]\n",
            "[[0. 0. 0. 0. 0.]]\n",
            "Valid Solution\n",
            "\n",
            "PSO-BHI Solution (using JAX.NumPy):\n",
            "[0 1 1 1 1 1 0 1 1 1 1 0 1 0 1 1 1 1 0 1]\n",
            "[[0 1 1 1 1 1 0 1 1 1 1 0 1 0 1 1 1 1 0 1]]\n",
            "[[0. 0. 0. 0. 0.]]\n",
            "Valid Solution\n"
          ],
          "name": "stdout"
        }
      ]
    }
  ]
}